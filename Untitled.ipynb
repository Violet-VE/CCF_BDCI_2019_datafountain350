{
 "cells": [
  {
   "cell_type": "code",
   "execution_count": 2,
   "metadata": {},
   "outputs": [],
   "source": [
    "import pandas as pd\n",
    "import numpy as np"
   ]
  },
  {
   "cell_type": "code",
   "execution_count": 20,
   "metadata": {},
   "outputs": [],
   "source": [
    "train_df = pd.read_csv('./data/Train_DataSet.csv')\n",
    "train_label_df = pd.read_csv('./data/Train_DataSet_Label.csv')"
   ]
  },
  {
   "cell_type": "code",
   "execution_count": 18,
   "metadata": {},
   "outputs": [
    {
     "name": "stdout",
     "output_type": "stream",
     "text": [
      "<class 'pandas.core.frame.DataFrame'>\n",
      "RangeIndex: 7345 entries, 0 to 7344\n",
      "Data columns (total 3 columns):\n",
      "id         7345 non-null object\n",
      "title      7342 non-null object\n",
      "content    7266 non-null object\n",
      "dtypes: object(3)\n",
      "memory usage: 172.2+ KB\n"
     ]
    }
   ],
   "source": [
    "train_df.info()\n",
    "#title数据少了，content内容数量却多了。"
   ]
  },
  {
   "cell_type": "code",
   "execution_count": 19,
   "metadata": {},
   "outputs": [
    {
     "data": {
      "text/html": [
       "<div>\n",
       "<style scoped>\n",
       "    .dataframe tbody tr th:only-of-type {\n",
       "        vertical-align: middle;\n",
       "    }\n",
       "\n",
       "    .dataframe tbody tr th {\n",
       "        vertical-align: top;\n",
       "    }\n",
       "\n",
       "    .dataframe thead th {\n",
       "        text-align: right;\n",
       "    }\n",
       "</style>\n",
       "<table border=\"1\" class=\"dataframe\">\n",
       "  <thead>\n",
       "    <tr style=\"text-align: right;\">\n",
       "      <th></th>\n",
       "      <th>id</th>\n",
       "      <th>title</th>\n",
       "      <th>content</th>\n",
       "    </tr>\n",
       "  </thead>\n",
       "  <tbody>\n",
       "    <tr>\n",
       "      <th>count</th>\n",
       "      <td>7345</td>\n",
       "      <td>7342</td>\n",
       "      <td>7266</td>\n",
       "    </tr>\n",
       "    <tr>\n",
       "      <th>unique</th>\n",
       "      <td>7345</td>\n",
       "      <td>7210</td>\n",
       "      <td>7118</td>\n",
       "    </tr>\n",
       "    <tr>\n",
       "      <th>top</th>\n",
       "      <td>aa9c6d525b0d4c53858ad74e6b957e8c</td>\n",
       "      <td>看黄播了兄弟不穿衣服那种</td>\n",
       "      <td>特别声明：以上文章内容仅代表作者本人观点，不代表新浪看点观点或立场。如有关于作品内容、版权或...</td>\n",
       "    </tr>\n",
       "    <tr>\n",
       "      <th>freq</th>\n",
       "      <td>1</td>\n",
       "      <td>5</td>\n",
       "      <td>8</td>\n",
       "    </tr>\n",
       "  </tbody>\n",
       "</table>\n",
       "</div>"
      ],
      "text/plain": [
       "                                      id         title  \\\n",
       "count                               7345          7342   \n",
       "unique                              7345          7210   \n",
       "top     aa9c6d525b0d4c53858ad74e6b957e8c  看黄播了兄弟不穿衣服那种   \n",
       "freq                                   1             5   \n",
       "\n",
       "                                                  content  \n",
       "count                                                7266  \n",
       "unique                                               7118  \n",
       "top     特别声明：以上文章内容仅代表作者本人观点，不代表新浪看点观点或立场。如有关于作品内容、版权或...  \n",
       "freq                                                    8  "
      ]
     },
     "execution_count": 19,
     "metadata": {},
     "output_type": "execute_result"
    }
   ],
   "source": [
    "train_df.describe()"
   ]
  },
  {
   "cell_type": "code",
   "execution_count": 21,
   "metadata": {},
   "outputs": [
    {
     "name": "stdout",
     "output_type": "stream",
     "text": [
      "<class 'pandas.core.frame.DataFrame'>\n",
      "RangeIndex: 7355 entries, 0 to 7354\n",
      "Data columns (total 2 columns):\n",
      "id       7355 non-null object\n",
      "label    7355 non-null int64\n",
      "dtypes: int64(1), object(1)\n",
      "memory usage: 115.0+ KB\n"
     ]
    }
   ],
   "source": [
    "train_label_df.info()"
   ]
  },
  {
   "cell_type": "code",
   "execution_count": 22,
   "metadata": {},
   "outputs": [],
   "source": [
    "train_df = train_df.merge(train_label_df,on='id',how='left')"
   ]
  },
  {
   "cell_type": "code",
   "execution_count": 23,
   "metadata": {},
   "outputs": [
    {
     "name": "stdout",
     "output_type": "stream",
     "text": [
      "<class 'pandas.core.frame.DataFrame'>\n",
      "Int64Index: 7345 entries, 0 to 7344\n",
      "Data columns (total 4 columns):\n",
      "id         7345 non-null object\n",
      "title      7342 non-null object\n",
      "content    7266 non-null object\n",
      "label      7340 non-null float64\n",
      "dtypes: float64(1), object(3)\n",
      "memory usage: 286.9+ KB\n"
     ]
    }
   ],
   "source": [
    "train_df.info()"
   ]
  },
  {
   "cell_type": "code",
   "execution_count": 25,
   "metadata": {},
   "outputs": [],
   "source": [
    "train_df['label'] = train_df['label'].fillna(-1)"
   ]
  },
  {
   "cell_type": "code",
   "execution_count": 26,
   "metadata": {},
   "outputs": [
    {
     "name": "stdout",
     "output_type": "stream",
     "text": [
      "<class 'pandas.core.frame.DataFrame'>\n",
      "Int64Index: 7345 entries, 0 to 7344\n",
      "Data columns (total 4 columns):\n",
      "id         7345 non-null object\n",
      "title      7342 non-null object\n",
      "content    7266 non-null object\n",
      "label      7345 non-null float64\n",
      "dtypes: float64(1), object(3)\n",
      "memory usage: 286.9+ KB\n"
     ]
    }
   ],
   "source": [
    "train_df.info()"
   ]
  },
  {
   "cell_type": "code",
   "execution_count": 27,
   "metadata": {},
   "outputs": [],
   "source": [
    "train_df = train_df[train_df['label']!=-1]"
   ]
  },
  {
   "cell_type": "code",
   "execution_count": 28,
   "metadata": {},
   "outputs": [
    {
     "name": "stdout",
     "output_type": "stream",
     "text": [
      "<class 'pandas.core.frame.DataFrame'>\n",
      "Int64Index: 7340 entries, 0 to 7344\n",
      "Data columns (total 4 columns):\n",
      "id         7340 non-null object\n",
      "title      7339 non-null object\n",
      "content    7266 non-null object\n",
      "label      7340 non-null float64\n",
      "dtypes: float64(1), object(3)\n",
      "memory usage: 286.7+ KB\n"
     ]
    }
   ],
   "source": [
    "train_df.info()"
   ]
  },
  {
   "cell_type": "code",
   "execution_count": 29,
   "metadata": {},
   "outputs": [],
   "source": [
    "train_df['label']=train_df['label'].astype(int)"
   ]
  },
  {
   "cell_type": "code",
   "execution_count": 30,
   "metadata": {},
   "outputs": [
    {
     "name": "stdout",
     "output_type": "stream",
     "text": [
      "<class 'pandas.core.frame.DataFrame'>\n",
      "Int64Index: 7340 entries, 0 to 7344\n",
      "Data columns (total 4 columns):\n",
      "id         7340 non-null object\n",
      "title      7339 non-null object\n",
      "content    7266 non-null object\n",
      "label      7340 non-null int64\n",
      "dtypes: int64(1), object(3)\n",
      "memory usage: 286.7+ KB\n"
     ]
    }
   ],
   "source": [
    "train_df.info()"
   ]
  },
  {
   "cell_type": "code",
   "execution_count": 31,
   "metadata": {},
   "outputs": [],
   "source": [
    "train_df['content']=train_df['content'].fillna('无')"
   ]
  },
  {
   "cell_type": "code",
   "execution_count": 32,
   "metadata": {},
   "outputs": [],
   "source": [
    "train_df['title']=train_df['title'].fillna('无')"
   ]
  },
  {
   "cell_type": "code",
   "execution_count": 33,
   "metadata": {},
   "outputs": [
    {
     "name": "stdout",
     "output_type": "stream",
     "text": [
      "<class 'pandas.core.frame.DataFrame'>\n",
      "Int64Index: 7340 entries, 0 to 7344\n",
      "Data columns (total 4 columns):\n",
      "id         7340 non-null object\n",
      "title      7340 non-null object\n",
      "content    7340 non-null object\n",
      "label      7340 non-null int64\n",
      "dtypes: int64(1), object(3)\n",
      "memory usage: 286.7+ KB\n"
     ]
    }
   ],
   "source": [
    "train_df.info()"
   ]
  },
  {
   "cell_type": "code",
   "execution_count": 34,
   "metadata": {},
   "outputs": [
    {
     "data": {
      "text/plain": [
       "7340"
      ]
     },
     "execution_count": 34,
     "metadata": {},
     "output_type": "execute_result"
    }
   ],
   "source": [
    "train_df.shape[0]"
   ]
  },
  {
   "cell_type": "code",
   "execution_count": 7,
   "metadata": {},
   "outputs": [
    {
     "name": "stdout",
     "output_type": "stream",
     "text": [
      "<class 'pandas.core.frame.DataFrame'>\n",
      "RangeIndex: 5872 entries, 0 to 5871\n",
      "Data columns (total 5 columns):\n",
      "Unnamed: 0    5872 non-null int64\n",
      "id            5872 non-null object\n",
      "title         5872 non-null object\n",
      "content       5872 non-null object\n",
      "label         5872 non-null int64\n",
      "dtypes: int64(2), object(3)\n",
      "memory usage: 229.5+ KB\n"
     ]
    }
   ],
   "source": [
    "pd.read_csv('./data/data_4/train.csv').info()"
   ]
  },
  {
   "cell_type": "code",
   "execution_count": 8,
   "metadata": {},
   "outputs": [
    {
     "data": {
      "text/plain": [
       "'/home/zhan/zyy/competitions/datafountain350'"
      ]
     },
     "execution_count": 8,
     "metadata": {},
     "output_type": "execute_result"
    }
   ],
   "source": [
    "pwd"
   ]
  },
  {
   "cell_type": "code",
   "execution_count": null,
   "metadata": {},
   "outputs": [],
   "source": []
  }
 ],
 "metadata": {
  "kernelspec": {
   "display_name": "Python 3",
   "language": "python",
   "name": "python3"
  },
  "language_info": {
   "codemirror_mode": {
    "name": "ipython",
    "version": 3
   },
   "file_extension": ".py",
   "mimetype": "text/x-python",
   "name": "python",
   "nbconvert_exporter": "python",
   "pygments_lexer": "ipython3",
   "version": "3.6.5"
  }
 },
 "nbformat": 4,
 "nbformat_minor": 2
}
