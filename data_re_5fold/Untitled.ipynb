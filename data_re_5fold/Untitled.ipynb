{
 "cells": [
  {
   "cell_type": "code",
   "execution_count": 3,
   "metadata": {},
   "outputs": [],
   "source": [
    "import pandas as pd"
   ]
  },
  {
   "cell_type": "code",
   "execution_count": 12,
   "metadata": {},
   "outputs": [],
   "source": [
    "train_df=pd.read_csv(\"Train_DataSet.csv\")\n",
    "train_label_df=pd.read_csv(\"Train_DataSet_Label.csv\")\n",
    "#test_df=pd.read_csv(\"Test_DataSet.csv\")\n",
    "train_df=train_df.merge(train_label_df,on='id',how='left')\n",
    "train_df['label']=train_df['label'].fillna(-1)\n",
    "train_df=train_df[train_df['label']!=-1]\n",
    "train_df['label']=train_df['label'].astype(int)\n",
    "#test_df['label']=0\n",
    "\n",
    "#test_df['content']=test_df['content'].fillna('无')\n",
    "train_df['content']=train_df['content'].fillna('无')\n",
    "#test_df['title']=test_df['title'].fillna('无')\n",
    "train_df['title']=train_df['title'].fillna('无')\n",
    "\n",
    "#############复赛数据\n",
    "#训练集:7356条\n",
    "#测试集:7362条\n",
    "######\n",
    "train_df_sec=pd.read_csv(\"Second_DataSet.csv\")\n",
    "train_label_df_sec=pd.read_csv(\"Second_DataSet_Label.csv\")\n",
    "test_df_sec=pd.read_csv(\"Second_TestDataSet.csv\")\n",
    "train_df_sec=train_df_sec.merge(train_label_df_sec,on='id',how='left')\n",
    "train_df_sec['label']=train_df_sec['label'].fillna(-1)\n",
    "train_df_sec=train_df_sec[train_df_sec['label']!=-1]\n",
    "train_df_sec['label']=train_df_sec['label'].astype(int)\n",
    "test_df_sec['label']=0\n",
    "\n",
    "test_df_sec['content']=test_df_sec['content'].fillna('无')\n",
    "train_df_sec['content']=train_df_sec['content'].fillna('无')\n",
    "test_df_sec['title']=test_df_sec['title'].fillna('无')\n",
    "train_df_sec['title']=train_df_sec['title'].fillna('无')\n",
    "\n",
    "\n",
    "train_df = pd.concat([train_df, train_df_sec], axis=0)"
   ]
  },
  {
   "cell_type": "code",
   "execution_count": 13,
   "metadata": {},
   "outputs": [
    {
     "name": "stdout",
     "output_type": "stream",
     "text": [
      "<class 'pandas.core.frame.DataFrame'>\n",
      "Int64Index: 14696 entries, 0 to 7362\n",
      "Data columns (total 4 columns):\n",
      "id         14696 non-null object\n",
      "title      14696 non-null object\n",
      "content    14696 non-null object\n",
      "label      14696 non-null int64\n",
      "dtypes: int64(1), object(3)\n",
      "memory usage: 574.1+ KB\n"
     ]
    }
   ],
   "source": [
    "train_df.info()"
   ]
  },
  {
   "cell_type": "code",
   "execution_count": 1,
   "metadata": {},
   "outputs": [
    {
     "name": "stdout",
     "output_type": "stream",
     "text": [
      "/home/zhan/zyy/competitions/datafountain350/data_re_5fold/data_0\n"
     ]
    }
   ],
   "source": [
    "cd data_0"
   ]
  },
  {
   "cell_type": "code",
   "execution_count": 4,
   "metadata": {},
   "outputs": [
    {
     "name": "stdout",
     "output_type": "stream",
     "text": [
      "<class 'pandas.core.frame.DataFrame'>\n",
      "RangeIndex: 11756 entries, 0 to 11755\n",
      "Data columns (total 5 columns):\n",
      "Unnamed: 0    11756 non-null int64\n",
      "id            11756 non-null object\n",
      "title         11756 non-null object\n",
      "content       11756 non-null object\n",
      "label         11756 non-null int64\n",
      "dtypes: int64(2), object(3)\n",
      "memory usage: 459.3+ KB\n"
     ]
    }
   ],
   "source": [
    "pd.read_csv('train.csv').info()"
   ]
  },
  {
   "cell_type": "code",
   "execution_count": 5,
   "metadata": {},
   "outputs": [
    {
     "name": "stdout",
     "output_type": "stream",
     "text": [
      "/home/zhan/zyy/competitions/datafountain350/data_re_5fold\n"
     ]
    }
   ],
   "source": [
    "cd .."
   ]
  },
  {
   "cell_type": "code",
   "execution_count": 7,
   "metadata": {},
   "outputs": [
    {
     "name": "stdout",
     "output_type": "stream",
     "text": [
      "/home/zhan/zyy/competitions/datafountain350/data_re_5fold/data_1\n"
     ]
    }
   ],
   "source": [
    "cd data_1"
   ]
  },
  {
   "cell_type": "code",
   "execution_count": 8,
   "metadata": {},
   "outputs": [
    {
     "name": "stdout",
     "output_type": "stream",
     "text": [
      "<class 'pandas.core.frame.DataFrame'>\n",
      "RangeIndex: 11756 entries, 0 to 11755\n",
      "Data columns (total 5 columns):\n",
      "Unnamed: 0    11756 non-null int64\n",
      "id            11756 non-null object\n",
      "title         11756 non-null object\n",
      "content       11756 non-null object\n",
      "label         11756 non-null int64\n",
      "dtypes: int64(2), object(3)\n",
      "memory usage: 459.3+ KB\n"
     ]
    }
   ],
   "source": [
    "pd.read_csv('train.csv').info()"
   ]
  },
  {
   "cell_type": "code",
   "execution_count": 9,
   "metadata": {},
   "outputs": [
    {
     "name": "stdout",
     "output_type": "stream",
     "text": [
      "<class 'pandas.core.frame.DataFrame'>\n",
      "RangeIndex: 7362 entries, 0 to 7361\n",
      "Data columns (total 5 columns):\n",
      "Unnamed: 0    7362 non-null int64\n",
      "id            7362 non-null object\n",
      "title         7362 non-null object\n",
      "content       7362 non-null object\n",
      "label         7362 non-null int64\n",
      "dtypes: int64(2), object(3)\n",
      "memory usage: 287.7+ KB\n"
     ]
    }
   ],
   "source": [
    "pd.read_csv('test.csv').info()"
   ]
  },
  {
   "cell_type": "code",
   "execution_count": 10,
   "metadata": {},
   "outputs": [
    {
     "name": "stdout",
     "output_type": "stream",
     "text": [
      "/home/zhan/zyy/competitions/datafountain350/data_re_5fold\n"
     ]
    }
   ],
   "source": [
    "cd .."
   ]
  },
  {
   "cell_type": "code",
   "execution_count": 11,
   "metadata": {},
   "outputs": [
    {
     "name": "stdout",
     "output_type": "stream",
     "text": [
      "<class 'pandas.core.frame.DataFrame'>\n",
      "RangeIndex: 7362 entries, 0 to 7361\n",
      "Data columns (total 3 columns):\n",
      "id         7362 non-null object\n",
      "title      7361 non-null object\n",
      "content    7266 non-null object\n",
      "dtypes: object(3)\n",
      "memory usage: 172.6+ KB\n"
     ]
    }
   ],
   "source": [
    "pd.read_csv('Second_TestDataSet.csv').info()"
   ]
  },
  {
   "cell_type": "code",
   "execution_count": 12,
   "metadata": {},
   "outputs": [
    {
     "name": "stdout",
     "output_type": "stream",
     "text": [
      "/home/zhan/zyy/competitions/datafountain350\n"
     ]
    }
   ],
   "source": [
    "cd .."
   ]
  },
  {
   "cell_type": "code",
   "execution_count": 13,
   "metadata": {},
   "outputs": [
    {
     "name": "stdout",
     "output_type": "stream",
     "text": [
      "/home/zhan/zyy/competitions/datafountain350/data_re_5fold\n"
     ]
    }
   ],
   "source": [
    "cd data_re_5fold"
   ]
  },
  {
   "cell_type": "code",
   "execution_count": 17,
   "metadata": {},
   "outputs": [],
   "source": [
    "testdf = pd.read_csv('Second_TestDataSet.csv')"
   ]
  },
  {
   "cell_type": "code",
   "execution_count": 25,
   "metadata": {},
   "outputs": [
    {
     "name": "stdout",
     "output_type": "stream",
     "text": [
      "<class 'pandas.core.frame.DataFrame'>\n",
      "Int64Index: 7361 entries, 0 to 7361\n",
      "Data columns (total 3 columns):\n",
      "id         7361 non-null object\n",
      "title      7360 non-null object\n",
      "content    7266 non-null object\n",
      "dtypes: object(3)\n",
      "memory usage: 230.0+ KB\n"
     ]
    }
   ],
   "source": [
    "testdf.drop_duplicates('id').info()"
   ]
  },
  {
   "cell_type": "code",
   "execution_count": 20,
   "metadata": {},
   "outputs": [],
   "source": [
    "submit_example_df = pd.read_csv('submit_example.csv')"
   ]
  },
  {
   "cell_type": "code",
   "execution_count": 21,
   "metadata": {},
   "outputs": [
    {
     "data": {
      "text/html": [
       "<div>\n",
       "<style scoped>\n",
       "    .dataframe tbody tr th:only-of-type {\n",
       "        vertical-align: middle;\n",
       "    }\n",
       "\n",
       "    .dataframe tbody tr th {\n",
       "        vertical-align: top;\n",
       "    }\n",
       "\n",
       "    .dataframe thead th {\n",
       "        text-align: right;\n",
       "    }\n",
       "</style>\n",
       "<table border=\"1\" class=\"dataframe\">\n",
       "  <thead>\n",
       "    <tr style=\"text-align: right;\">\n",
       "      <th></th>\n",
       "      <th>id</th>\n",
       "      <th>label</th>\n",
       "    </tr>\n",
       "  </thead>\n",
       "  <tbody>\n",
       "  </tbody>\n",
       "</table>\n",
       "</div>"
      ],
      "text/plain": [
       "Empty DataFrame\n",
       "Columns: [id, label]\n",
       "Index: []"
      ]
     },
     "execution_count": 21,
     "metadata": {},
     "output_type": "execute_result"
    }
   ],
   "source": [
    "submit_example_df[submit_example_df.duplicated('id')]"
   ]
  },
  {
   "cell_type": "code",
   "execution_count": 23,
   "metadata": {},
   "outputs": [
    {
     "data": {
      "text/plain": [
       "b4277e3490e04fceb6b7c35c525a5c0b    1\n",
       "585170d6ef1e45769c523eb0ec5e513d    1\n",
       "2051c8388fd644b1a356b1df3d6d587e    1\n",
       "c531469957ce4d20bb12a061a858b681    1\n",
       "ab9c97a7e6f447d792fca04d94979bfd    1\n",
       "8486bd1abd574a7eb60f0d09167de748    1\n",
       "2ac213ca393c4b21961395e94f20bf33    1\n",
       "09874ee59a584d66897290d4d15557f0    1\n",
       "6c7247ddaa90431faecd4f6e76ea9360    1\n",
       "4f6915ba66e44f78a366df982b04e247    1\n",
       "af0c134530734dda908c771dfd05dd28    1\n",
       "0e8d74ae50b241c0bf1d12296c9cb9e7    1\n",
       "a4f93ce6f6e64395b168ce842b046fec    1\n",
       "2ceda52f788845efa4c77e08400bdb5f    1\n",
       "3b1822dae5864ccb8aa49ef95972f766    1\n",
       "b01770ee68f84af18f3452ef76fcd460    1\n",
       "544fb87fd250486d86063cf428ad0d56    1\n",
       "6a5cf857cea74267ad4bab41c1dcc4a5    1\n",
       "c6b573f8102d4e3b918b225b5bae4d81    1\n",
       "8b8036896c5c49f186810d078a24bb8c    1\n",
       "4cbe1a8c1d8040f596978f4381a46bbb    1\n",
       "bacb06ce48d84ad58526d07a2a242bf0    1\n",
       "4fcd211d38da42658e4f0e198a093c82    1\n",
       "ed92d6d64c124c5a9fc4ea6ce72314cb    1\n",
       "cd1bb31374d8421aab9832756aaa8b13    1\n",
       "7c85f463d80d4505a762376ee508e9ef    1\n",
       "938b4d84fca84a1f8e0451454ea4fbc5    1\n",
       "08fc0c496a01452094d1b9492a5aaefa    1\n",
       "0b702e43a1fd4c099a3d76ffe365e33f    1\n",
       "93225368e0bc4705ad312ef04eda9b9d    1\n",
       "                                   ..\n",
       "03ca3da64e8d45228e22406ada8680e5    1\n",
       "244334ad189e4f9490e6eb78c67038de    1\n",
       "b2ecd9f9fa874fb48a3f28ee4297a5be    1\n",
       "1b684910b25d4e60ba18629e8962d38b    1\n",
       "b344e5c57f9342069f8e4c52444608cd    1\n",
       "90b31925065649548906d758edb88eaf    1\n",
       "6ff7ed0f773945a7b05e5b7ed0d6abb8    1\n",
       "9aa4da4b9bf6466bb881b83c14af93ca    1\n",
       "e823b4d6e75345ba84c30d8cc9963022    1\n",
       "7be0dabeace04ec795fe60f0c0acfb08    1\n",
       "594208fc9ad14f2fb697bd4ca279a900    1\n",
       "acfceb7f1eee4740a56e7b807bf33de4    1\n",
       "1e5e41fda0df4427a606efc2613c8826    1\n",
       "3af97752effd47ff8f5e75f319b842dd    1\n",
       "4ea35066fb1e4b47ad65f636db8f959d    1\n",
       "e64934c91c8d480ab17f93bfe0a28d5f    1\n",
       "2bbf70cebafe469fa4a77b3ac9c9e864    1\n",
       "4db3a526f48a4913a96717bf5e416c02    1\n",
       "89f7e0a05542402991c7986594ce8494    1\n",
       "c9d31eb1731146d0946c27db6cc5dc76    1\n",
       "86a580e3c3da410ca64ca1a5e4b1b5ca    1\n",
       "8ad61161a98d48e3bd53186e02c7d208    1\n",
       "52ece78688e349b494430d465c63d2c5    1\n",
       "bb09d928ac7e48c99011f6d8544ed598    1\n",
       "769eeabcfaaa4864a085c93fd0b15360    1\n",
       "4105d76f84a345cf994853033a4b43aa    1\n",
       "f4b0088bf6ad4d45906c2cc7934b809c    1\n",
       "b4fd885bbacc46269242872bd4c205ff    1\n",
       "a2fbb2bb89454551bdf98d8327c41f42    1\n",
       "02433689758b40438bfc4b2fbcb5ed55    1\n",
       "Name: id, Length: 7356, dtype: int64"
      ]
     },
     "execution_count": 23,
     "metadata": {},
     "output_type": "execute_result"
    }
   ],
   "source": [
    "submit_example_df['id'].value_counts()"
   ]
  },
  {
   "cell_type": "code",
   "execution_count": 26,
   "metadata": {},
   "outputs": [],
   "source": [
    "testdf = pd.read_csv('Second_TestDataSet.csv')"
   ]
  },
  {
   "cell_type": "code",
   "execution_count": 36,
   "metadata": {},
   "outputs": [
    {
     "data": {
      "text/html": [
       "<div>\n",
       "<style scoped>\n",
       "    .dataframe tbody tr th:only-of-type {\n",
       "        vertical-align: middle;\n",
       "    }\n",
       "\n",
       "    .dataframe tbody tr th {\n",
       "        vertical-align: top;\n",
       "    }\n",
       "\n",
       "    .dataframe thead th {\n",
       "        text-align: right;\n",
       "    }\n",
       "</style>\n",
       "<table border=\"1\" class=\"dataframe\">\n",
       "  <thead>\n",
       "    <tr style=\"text-align: right;\">\n",
       "      <th></th>\n",
       "      <th>id</th>\n",
       "      <th>title</th>\n",
       "      <th>content</th>\n",
       "    </tr>\n",
       "  </thead>\n",
       "  <tbody>\n",
       "    <tr>\n",
       "      <th>4623</th>\n",
       "      <td>4f64a686e344478c806f26573794cf96</td>\n",
       "      <td>城市路面“坑”人，真相不能止步于侥幸</td>\n",
       "      <td>NaN</td>\n",
       "    </tr>\n",
       "  </tbody>\n",
       "</table>\n",
       "</div>"
      ],
      "text/plain": [
       "                                    id               title content\n",
       "4623  4f64a686e344478c806f26573794cf96  城市路面“坑”人，真相不能止步于侥幸     NaN"
      ]
     },
     "execution_count": 36,
     "metadata": {},
     "output_type": "execute_result"
    }
   ],
   "source": [
    "testdf[testdf.id=='4f64a686e344478c806f26573794cf96']"
   ]
  },
  {
   "cell_type": "code",
   "execution_count": 34,
   "metadata": {},
   "outputs": [
    {
     "data": {
      "text/plain": [
       "'/home/zhan/zyy/competitions/datafountain350/data_re_5fold'"
      ]
     },
     "execution_count": 34,
     "metadata": {},
     "output_type": "execute_result"
    }
   ],
   "source": [
    "pwd"
   ]
  },
  {
   "cell_type": "code",
   "execution_count": 37,
   "metadata": {},
   "outputs": [
    {
     "name": "stdout",
     "output_type": "stream",
     "text": [
      "total 148460\r\n",
      "drwxrwxr-x 2 zhan zhan     4096 11月  7 19:14 \u001b[0m\u001b[01;34mdata_0\u001b[0m/\r\n",
      "drwxrwxr-x 2 zhan zhan     4096 11月  7 19:14 \u001b[01;34mdata_1\u001b[0m/\r\n",
      "drwxrwxr-x 2 zhan zhan     4096 11月  7 19:14 \u001b[01;34mdata_2\u001b[0m/\r\n",
      "drwxrwxr-x 2 zhan zhan     4096 11月  7 19:14 \u001b[01;34mdata_3\u001b[0m/\r\n",
      "drwxrwxr-x 2 zhan zhan     4096 11月  7 19:14 \u001b[01;34mdata_4\u001b[0m/\r\n",
      "-rw-rw-r-- 1 zhan zhan      610 11月  7 19:13 data_process.py\r\n",
      "-rw-rw-r-- 1 zhan zhan     2197 11月  6 21:54 preprocess.py\r\n",
      "-rw-rw-r-- 1 zhan zhan 25703765 11月  6 21:29 Second_DataSet.csv\r\n",
      "-rw-rw-r-- 1 zhan zhan   264826 11月  6 21:29 Second_DataSet_Label.csv\r\n",
      "-rw-rw-r-- 1 zhan zhan 25818966 11月  7 19:03 Second_TestDataSet.csv\r\n",
      "-rw-rw-r-- 1 zhan zhan   264826 11月  6 18:28 submit_example.csv\r\n",
      "-rw-rw-r-- 1 zhan zhan 11265470 11月  6 18:29 \u001b[01;31mTest2_DataSet.zip\u001b[0m\r\n",
      "-rw-rw-r-- 1 zhan zhan 25851542 11月  7 19:13 test.csv\r\n",
      "-rwxrwxrwx 1 zhan zhan 25645990 8月  17 08:47 \u001b[01;32mTest_DataSet.csv\u001b[0m*\r\n",
      "-rw-rw-r-- 1 zhan zhan 11351380 11月  6 18:29 \u001b[01;31mTrain2_dataset.zip\u001b[0m\r\n",
      "-rwxrwxrwx 1 zhan zhan 25524728 8月  16 21:37 \u001b[01;32mTrain_DataSet.csv\u001b[0m*\r\n",
      "-rwxrwxrwx 1 zhan zhan   264790 8月  23 19:20 \u001b[01;32mTrain_DataSet_Label.csv\u001b[0m*\r\n",
      "-rw-rw-r-- 1 zhan zhan    15099 11月  7 18:57 Untitled.ipynb\r\n"
     ]
    }
   ],
   "source": [
    "ls -l"
   ]
  },
  {
   "cell_type": "code",
   "execution_count": 38,
   "metadata": {},
   "outputs": [
    {
     "name": "stdout",
     "output_type": "stream",
     "text": [
      "/home/zhan/zyy/competitions/datafountain350/data_re_5fold/data_0\n"
     ]
    }
   ],
   "source": [
    "cd data_0/"
   ]
  },
  {
   "cell_type": "code",
   "execution_count": 39,
   "metadata": {},
   "outputs": [
    {
     "name": "stdout",
     "output_type": "stream",
     "text": [
      "<class 'pandas.core.frame.DataFrame'>\n",
      "RangeIndex: 7356 entries, 0 to 7355\n",
      "Data columns (total 4 columns):\n",
      "Unnamed: 0    7356 non-null int64\n",
      "id            7356 non-null object\n",
      "title         7356 non-null object\n",
      "content       7356 non-null object\n",
      "dtypes: int64(1), object(3)\n",
      "memory usage: 230.0+ KB\n"
     ]
    }
   ],
   "source": [
    "pd.read_csv('test.csv').info()"
   ]
  },
  {
   "cell_type": "code",
   "execution_count": null,
   "metadata": {},
   "outputs": [],
   "source": []
  }
 ],
 "metadata": {
  "kernelspec": {
   "display_name": "Python 3",
   "language": "python",
   "name": "python3"
  },
  "language_info": {
   "codemirror_mode": {
    "name": "ipython",
    "version": 3
   },
   "file_extension": ".py",
   "mimetype": "text/x-python",
   "name": "python",
   "nbconvert_exporter": "python",
   "pygments_lexer": "ipython3",
   "version": "3.6.5"
  }
 },
 "nbformat": 4,
 "nbformat_minor": 2
}
